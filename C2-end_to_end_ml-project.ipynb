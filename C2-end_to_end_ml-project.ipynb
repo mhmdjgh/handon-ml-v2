{
 "cells": [
  {
   "cell_type": "markdown",
   "metadata": {},
   "source": [
    "<h1 style=\"text-align:right;font-size:140%;color:#000000; font-family: 'XB Zar';\"> <strong>فصل 2  - یک پروژه یادگیری ماشین: از آغاز تا پایان</strong>\n",
    "</h1>\n",
    "<hr>\n"
   ]
  },
  {
   "cell_type": "markdown",
   "metadata": {},
   "source": [
    "<h1 style=\"text-align:right;font-size:110%; direction: rtl; color:#000000; font-family: 'XB Zar';\">در این فصل، یک پروژه یادگیری ماشین را از صفر تا صد انجام می‌دهیم. در این مثال، در قالب یک متخصص داده‌پردازی فرو می‌رویم که به تازگی در یک شرکت سرمایه‌گذاری املاک و مستغلات استخدام شده است. توجه داشته باشید که این یک پروژه‌ی یادگیری ماشین خیالی است و هدف آن آموزش خرید و فروش ملک و آپارتمان نیست!\n",
    "</h1>"
   ]
  },
  {
   "cell_type": "code",
   "execution_count": 1,
   "metadata": {},
   "outputs": [
    {
     "ename": "SyntaxError",
     "evalue": "invalid syntax (562185721.py, line 1)",
     "output_type": "error",
     "traceback": [
      "\u001b[1;36m  Cell \u001b[1;32mIn[1], line 1\u001b[1;36m\u001b[0m\n\u001b[1;33m    <h1 style=\"text-align:right;font-size:140%;color:#000000; font-family: 'XB Zar';\"> <strong>فصل 2 - یک پروژه یادگیری ماشین: از آغاز تا پایان</strong>\u001b[0m\n\u001b[1;37m    ^\u001b[0m\n\u001b[1;31mSyntaxError\u001b[0m\u001b[1;31m:\u001b[0m invalid syntax\n"
     ]
    }
   ],
   "source": [
    "\n",
    "\n"
   ]
  },
  {
   "cell_type": "code",
   "execution_count": null,
   "metadata": {},
   "outputs": [],
   "source": []
  }
 ],
 "metadata": {
  "kernelspec": {
   "display_name": "Python 3",
   "language": "python",
   "name": "python3"
  },
  "language_info": {
   "codemirror_mode": {
    "name": "ipython",
    "version": 3
   },
   "file_extension": ".py",
   "mimetype": "text/x-python",
   "name": "python",
   "nbconvert_exporter": "python",
   "pygments_lexer": "ipython3",
   "version": "3.9.13"
  },
  "orig_nbformat": 4
 },
 "nbformat": 4,
 "nbformat_minor": 2
}
