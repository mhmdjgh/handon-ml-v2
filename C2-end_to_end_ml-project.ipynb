{
 "cells": [
  {
   "cell_type": "markdown",
   "metadata": {},
   "source": [
    "<h1 style=\"text-align:right;font-size:140%;color:#000000; font-family: 'XB Zar';\"> <strong>فصل 2  - یک پروژه یادگیری ماشین: از آغاز تا پایان</strong>\n",
    "</h1>\n",
    "<hr>\n"
   ]
  },
  {
   "cell_type": "markdown",
   "metadata": {},
   "source": [
    "<h1 style=\"text-align:right;font-size:120%; direction: rtl; color:#000000; font-family: 'XB Zar';\">در این فصل، یک پروژه یادگیری ماشین را از صفر تا صد انجام می‌دهیم. در این مثال، در قالب یک متخصص داده‌پردازی فرو می‌رویم که به تازگی در یک شرکت سرمایه‌گذاری املاک و مستغلات استخدام شده است. توجه داشته باشید که این یک پروژه‌ی یادگیری ماشین خیالی است و هدف آن آموزش خرید و فروش ملک و آپارتمان نیست!<br><br>\n",
    "مراحل اصلی یک پروژه‌ی یادگیری ماشین عبارتند از:</h1>\n",
    "\n",
    "\n",
    "\n",
    "<div style=\"direction:rtl; font-size: 17px; font-family: 'XB Zar'; line-height: 200%\">\n",
    "  \n",
    "1. [**کلیات پروژه را بررسی کرده و چارچوب مسئله را مشخص کنید.**](#1)\n",
    "2. [**داده‌های مورد نیاز را جمع‌آوری کنید.**](#2)\n",
    "3. [**برای به دست آوردن شناخت بهتر، داده‌ها را کاوش و تجسم کنید.**](#3)\n",
    "4. [**داده‌ها را برای ورود به الگوریتم ماشین آماده کنید.**](#4)\n",
    "5. [**یک مدل انتخاب کرده و آن را آموزش دهید.**](#5)\n",
    "6. [**تنظیمات مدل را برای رسیدن به بهترین کارایی (دقت) بهینه کنید.**](#6)\n",
    "7. [**راه‌حل خود را ارائه دهید.**](#7)\n",
    "8. [**سیستم را راه‌اندازی، پایش و نگهداری کنید.**](#8)\n",
    "    \n",
    "</div>\n"
   ]
  },
  {
   "cell_type": "markdown",
   "metadata": {},
   "source": [
    "<h1 style=\"text-align:right;font-size:120%; direction: rtl;direction: rtl; color:#000000; font-family: 'XB Zar';\">&#128165;در ادامه، این 8 گام به صورت پله به پله بررسی و پیاده‌سازی می‌شوند.</h1><br><hr>"
   ]
  },
  {
   "cell_type": "markdown",
   "metadata": {},
   "source": [
    "<h1 style=\"text-align:right;font-size:120%; direction: rtl;direction: rtl; color:#000000; font-family: 'XB Zar';\">ابتدا، چند ماژول رایج را وارد می‌کنیم و اطمینان حاصل می‌کنیم که MatplotLib شکل‌ها را به صورت درون‌خطی نمایش می‌دهد. سپس یک تابع برای ذخیره کردن شکل‌ها آماده می‌کنیم. همچنین بررسی می‌کنیم که نسخه Python 3.5 یا بالاتر نصب شده باشد. اگرچه Python 2.x ممکن است کار کند، اما منسوخ شده است و به شدت توصیه می‌کنیم از Python 3 استفاده کنید. علاوه بر این، باید نسخه 0.20 یا بالاتر Scikit-Learn نیز نصب شده باشد.</h1>"
   ]
  },
  {
   "cell_type": "code",
   "execution_count": 4,
   "metadata": {},
   "outputs": [],
   "source": [
    "# Python ≥3.5 is required\n",
    "import sys\n",
    "assert sys.version_info >= (3, 5)\n",
    "\n",
    "# Scikit-Learn ≥0.20 is required\n",
    "import sklearn\n",
    "assert sklearn.__version__ >= \"0.20\"\n",
    "\n",
    "# Common imports\n",
    "import numpy as np\n",
    "import os\n",
    "\n",
    "# To plot pretty figures\n",
    "%matplotlib inline\n",
    "import matplotlib as mpl\n",
    "import matplotlib.pyplot as plt\n",
    "mpl.rc('axes', labelsize=14)\n",
    "mpl.rc('xtick', labelsize=12)\n",
    "mpl.rc('ytick', labelsize=12)\n",
    "\n",
    "# Where to save the figures\n",
    "PROJECT_ROOT_DIR = \".\"\n",
    "CHAPTER_ID = \"end_to_end_project\"\n",
    "IMAGES_PATH = os.path.join(PROJECT_ROOT_DIR, \"images\", CHAPTER_ID)\n",
    "os.makedirs(IMAGES_PATH, exist_ok=True)\n",
    "\n",
    "def save_fig(fig_id, tight_layout=True, fig_extension=\"png\", resolution=300):\n",
    "    path = os.path.join(IMAGES_PATH, fig_id + \".\" + fig_extension)\n",
    "    print(\"Saving figure\", fig_id)\n",
    "    if tight_layout:\n",
    "        plt.tight_layout()\n",
    "    plt.savefig(path, format=fig_extension, dpi=resolution)\n"
   ]
  },
  {
   "cell_type": "markdown",
   "metadata": {},
   "source": [
    "\n",
    "<hr><br><h1 style=\"text-align:right;font-size:120%; direction: rtl;direction: rtl; color:#6520A8; font-family: 'XB Zar';\"><strong>گام اول : کلیات پروژه را بررسی کرده و چارچوب مسئله را مشخص کنید.</strong></h1><a id='1'></a>"
   ]
  },
  {
   "cell_type": "markdown",
   "metadata": {},
   "source": [
    "<h1 style=\"text-align:right;font-size:120%; direction: rtl;direction: rtl; color:#000000; font-family: 'XB Zar';\">اولین قدم برای اجرای پروژه یادگیری ماشین شرکت سرمایه گذاری املاک و مستغلات این است که داده‌های آماری مورد نیاز برای ساخت مدل را دریافت کنیم. این اطلاعات شامل جمعیت، میانگین درآمد ساکنان و میانگین قیمت خانه برای تعداد زیادی از مجتمع‌های مسکونی در ایالت کالیفرنیا است.<br>بهترین منبع برای یافتن اطلاعات اولیه درباره‌ی یک پروژه رئیس شرکت (یا مدیر پروژه) است، و اولین پرسشی که باید از این رئیس بپرسیم این است که هدف کسب و کار او دقیقاً چیست. مسلماً ساختن یک مدل یادگیری ماشین! هدف غایی هیچ کسب و کاری نیست، بلکه باید دید شرکت چه انتظاراتی از این مدل دارد. دانستن هدف کسب و کار بسیار مهم است، چون در واقع همین هدف است که تعیین می‌کند چه مسأله‌ای را باید حل کنیم، چه الگوریتمی برای حل آن انتخاب کنیم، چه مقدار تلاش برای تنظیم دقیق مدل به خرج دهیم.</h1>"
   ]
  },
  {
   "cell_type": "code",
   "execution_count": null,
   "metadata": {},
   "outputs": [],
   "source": []
  }
 ],
 "metadata": {
  "kernelspec": {
   "display_name": "Python 3",
   "language": "python",
   "name": "python3"
  },
  "language_info": {
   "codemirror_mode": {
    "name": "ipython",
    "version": 3
   },
   "file_extension": ".py",
   "mimetype": "text/x-python",
   "name": "python",
   "nbconvert_exporter": "python",
   "pygments_lexer": "ipython3",
   "version": "3.9.13"
  },
  "orig_nbformat": 4
 },
 "nbformat": 4,
 "nbformat_minor": 2
}
