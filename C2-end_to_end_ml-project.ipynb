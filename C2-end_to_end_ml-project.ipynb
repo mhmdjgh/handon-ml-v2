{
 "cells": [
  {
   "cell_type": "markdown",
   "metadata": {},
   "source": [
    "<h1 style=\"text-align:right;font-size:140%;color:#000000; font-family: 'XB Zar';\"> <strong>فصل 2  - یک پروژه یادگیری ماشین: از آغاز تا پایان</strong>\n",
    "</h1>\n",
    "<hr>\n"
   ]
  },
  {
   "cell_type": "markdown",
   "metadata": {},
   "source": [
    "<h1 style=\"text-align:right;font-size:120%; direction: rtl; color:#000000; font-family: 'XB Zar';\">در این فصل، یک پروژه یادگیری ماشین را از صفر تا صد انجام می‌دهیم. در این مثال، در قالب یک متخصص داده‌پردازی فرو می‌رویم که به تازگی در یک شرکت سرمایه‌گذاری املاک و مستغلات استخدام شده است. توجه داشته باشید که این یک پروژه‌ی یادگیری ماشین خیالی است و هدف آن آموزش خرید و فروش ملک و آپارتمان نیست!\n",
    "\n",
    "مراحل اصلی یک پروژه‌ی یادگیری ماشین عبارتند از:\n",
    "\n",
    "\n",
    "\n",
    "<div style=\"direction:rtl; font-size: 17px; font-family: 'XB Zar'; line-height: 200%\">\n",
    "  \n",
    "1. [**کلیات پروژه را بررسی کرده و چارچوب مسئله را مشخص کنید.**](#1)\n",
    "2. [**داده‌های مورد نیاز را جمع‌آوری کنید.**](#2)\n",
    "3. [**برای به دست آوردن شناخت بهتر، داده‌ها را کاوش و تجسم کنید.**](#3)\n",
    "4. [**داده‌ها را برای ورود به الگوریتم ماشین آماده کنید.**](#4)\n",
    "5. [**یک مدل انتخاب کرده و آن را آموزش دهید.**](#5)\n",
    "6. [**تنظیمات مدل را برای رسیدن به بهترین کارایی (دقت) بهینه کنید.**](#6)\n",
    "7. [**راه‌حل خود را ارائه دهید.**](#7)\n",
    "8. [**سیستم را راه‌اندازی، پایش و نگهداری کنید.**](#8)\n",
    "    \n",
    "</div>\n"
   ]
  },
  {
   "cell_type": "markdown",
   "metadata": {},
   "source": [
    "<h1 style=\"text-align:right;font-size:120%; direction: rtl;direction: rtl; color:#000000; font-family: 'XB Zar';\">&#128165;در ادامه، این 8 گام به صورت پله به پله بررسی و پیاده‌سازی می‌شوند.</h1><br><hr>"
   ]
  },
  {
   "cell_type": "markdown",
   "metadata": {},
   "source": [
    "\n",
    "<h1 style=\"text-align:right;font-size:120%; direction: rtl;direction: rtl; color:#6520A8; font-family: 'XB Zar';\"><strong>گام اول : کلیات پروژه را بررسی کرده و چارچوب مسئله را مشخص کنید.</strong></h1><a id='1'></a>"
   ]
  },
  {
   "cell_type": "markdown",
   "metadata": {},
   "source": [
    "<h1 style=\"text-align:right;font-size:120%; direction: rtl;direction: rtl; color:#000000; font-family: 'XB Zar';\">اولین قدم برای اجرای پروژه یادگیری ماشین شرکت سرمایه گذاری املاک و مستغلات این است که داده‌های آماری مورد نیاز برای ساخت مدل را دریافت کنیم. این اطلاعات شامل جمعیت، میانگین درآمد ساکنان و میانگین قیمت خانه برای تعداد زیادی از مجتمع‌های مسکونی در ایالت کالیفرنیا است.</h1>"
   ]
  },
  {
   "cell_type": "markdown",
   "metadata": {},
   "source": []
  }
 ],
 "metadata": {
  "kernelspec": {
   "display_name": "Python 3",
   "language": "python",
   "name": "python3"
  },
  "language_info": {
   "codemirror_mode": {
    "name": "ipython",
    "version": 3
   },
   "file_extension": ".py",
   "mimetype": "text/x-python",
   "name": "python",
   "nbconvert_exporter": "python",
   "pygments_lexer": "ipython3",
   "version": "3.9.13"
  },
  "orig_nbformat": 4
 },
 "nbformat": 4,
 "nbformat_minor": 2
}
