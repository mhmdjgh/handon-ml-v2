{
 "cells": [
  {
   "cell_type": "markdown",
   "metadata": {},
   "source": [
    "<h1 style=\"text-align:right;font-size:120%;color:#000000; font-family: 'XB Zar';\"> <strong>فصل 1 - چشم‌انداز یادگیری ماشین</strong>\n",
    "</h1>\n"
   ]
  },
  {
   "cell_type": "markdown",
   "metadata": {},
   "source": [
    "<h1 style=\"text-align:right;font-size:120%;color:#000000; font-family: 'XB Zar';\">برای ادامه مسیر، بهتر است از نسخه 3 پایتون استفاده کنید.</h1>"
   ]
  },
  {
   "cell_type": "markdown",
   "metadata": {},
   "source": [
    "<h1 style=\"text-align:right;font-size:150%;color:#000000; font-family: 'XB Zar';\">مثال 1-1</h1>"
   ]
  }
 ],
 "metadata": {
  "language_info": {
   "name": "python"
  },
  "orig_nbformat": 4
 },
 "nbformat": 4,
 "nbformat_minor": 2
}
